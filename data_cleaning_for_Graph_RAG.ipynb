{
  "nbformat": 4,
  "nbformat_minor": 0,
  "metadata": {
    "colab": {
      "provenance": [],
      "gpuType": "T4"
    },
    "kernelspec": {
      "name": "python3",
      "display_name": "Python 3"
    },
    "language_info": {
      "name": "python"
    }
  },
  "cells": [
    {
      "cell_type": "code",
      "source": [
        "!pip install -Uq PyMuPDF\n",
        "!pip install -Uq datetime"
      ],
      "metadata": {
        "colab": {
          "base_uri": "https://localhost:8080/"
        },
        "id": "aeeTAIYBLZCU",
        "outputId": "f30ba32f-d970-48b0-f542-a5c9a5ed4aa3"
      },
      "execution_count": 4,
      "outputs": [
        {
          "output_type": "stream",
          "name": "stdout",
          "text": [
            "\u001b[2K   \u001b[90m━━━━━━━━━━━━━━━━━━━━━━━━━━━━━━━━━━━━━━━━\u001b[0m \u001b[32m24.1/24.1 MB\u001b[0m \u001b[31m53.7 MB/s\u001b[0m eta \u001b[36m0:00:00\u001b[0m\n",
            "\u001b[2K     \u001b[90m━━━━━━━━━━━━━━━━━━━━━━━━━━━━━━━━━━━━━━━\u001b[0m \u001b[32m44.4/44.4 kB\u001b[0m \u001b[31m840.5 kB/s\u001b[0m eta \u001b[36m0:00:00\u001b[0m\n",
            "\u001b[2K   \u001b[90m━━━━━━━━━━━━━━━━━━━━━━━━━━━━━━━━━━━━━━━━\u001b[0m \u001b[32m52.6/52.6 kB\u001b[0m \u001b[31m2.4 MB/s\u001b[0m eta \u001b[36m0:00:00\u001b[0m\n",
            "\u001b[2K   \u001b[90m━━━━━━━━━━━━━━━━━━━━━━━━━━━━━━━━━━━━━━━━\u001b[0m \u001b[32m259.8/259.8 kB\u001b[0m \u001b[31m4.7 MB/s\u001b[0m eta \u001b[36m0:00:00\u001b[0m\n",
            "\u001b[?25h"
          ]
        }
      ]
    },
    {
      "cell_type": "code",
      "source": [
        "import fitz\n",
        "import json\n",
        "import re\n",
        "from collections import Counter\n",
        "from datetime import datetime"
      ],
      "metadata": {
        "id": "Xtezd18tU2t7"
      },
      "execution_count": 5,
      "outputs": []
    },
    {
      "cell_type": "code",
      "source": [
        "path = \"/content/drive/MyDrive/Cancer_Monographs_GraphRAG/\"\n",
        "doc_path = path + \"Cancer_Monographs-new.pdf\"\n",
        "#doc = fitz.open(doc_path)"
      ],
      "metadata": {
        "id": "MbCEK_FqYJgX"
      },
      "execution_count": 77,
      "outputs": []
    },
    {
      "cell_type": "code",
      "source": [
        "def detect_chapters(doc):\n",
        "  chapter_map = [\n",
        "      {\"chapter\": 1, \"title\": \"Population and Cancer Incidence\", \"start_page\": 28},\n",
        "      {\"chapter\": 2, \"title\": \"Leading sites of Cancer\", \"start_page\": 36},\n",
        "      {\"chapter\": 3, \"title\": \"Breast Cancer\", \"start_page\": 54},\n",
        "      {\"chapter\": 4, \"title\": \"Cervical Cancer Research\", \"start_page\": 79},\n",
        "      {\"chapter\": 5, \"title\": \"Cancer Research in North-East\", \"start_page\": 112},\n",
        "      {\"chapter\": 6, \"title\": \"Tobacco Related Cancers\", \"start_page\": 137},\n",
        "      {\"chapter\": 7, \"title\": \"Prostrate Cancer\", \"start_page\": 186},\n",
        "      {\"chapter\": 8, \"title\": \"Diet and Cancer\", \"start_page\": 195},\n",
        "      {\"chapter\": 9, \"title\": \"Extramural Research Activities\", \"start_page\": 201}\n",
        "  ]\n",
        "\n",
        "  for i in range(len(chapter_map) - 1):\n",
        "    chapter_map[i][\"end_page\"] = chapter_map[i + 1] [\"start_page\"] - 1\n",
        "\n",
        "  chapter_map[-1][\"end_page\"] = len(doc)\n",
        "\n",
        "  return chapter_map\n",
        "\n",
        "def detect_common_headers_footers(doc, sample_pages=20, threshold=0.5):\n",
        "  header_lines = Counter()\n",
        "  footer_lines = Counter()\n",
        "\n",
        "  start_sample = max(10, len(doc) // 4)\n",
        "  end_sample = min(len(doc) - 10, start_sample + sample_pages)\n",
        "\n",
        "  num_sampled = 0\n",
        "  for page_num in range(start_sample, end_sample):\n",
        "    lines = doc[page_num].get_text().split('\\n')\n",
        "    if len(lines) > 2:\n",
        "      num_sampled += 1\n",
        "      for line in lines:\n",
        "        if line.strip():\n",
        "          header_lines[line.strip()] += 1\n",
        "          break\n",
        "      for line in reversed(lines):\n",
        "        if line.strip():\n",
        "          footer_lines[line.strip()] += 1\n",
        "          break\n",
        "\n",
        "\n",
        "  min_count = int(num_sampled * threshold)\n",
        "  common_headers = {line for line, count in header_lines.items() if count >= min_count}\n",
        "  common_footers = {line for line, count in footer_lines.items() if count >= min_count}\n",
        "\n",
        "  common_footers.add(\"icma\")\n",
        "  footer_pattern = re.compile(r\"Cancer Monograph\\s*\\d+\")\n",
        "  for page in doc:\n",
        "    text = page.get_text()\n",
        "    for match in footer_pattern.findall(text):\n",
        "      common_footers.add(match.strip())\n",
        "\n",
        "\n",
        "  return common_headers, common_footers\n",
        "\n",
        "def clean_page_text(text, common_headers, common_footers):\n",
        "  # CLeans the raw text of a single page\n",
        "\n",
        "  lines = text.split('\\n')\n",
        "\n",
        "  cleaned_lines = [\n",
        "      line for line in lines\n",
        "      if line.strip() not in common_headers and line.strip() not in common_footers\n",
        "      ]\n",
        "\n",
        "  text = '\\n'.join(cleaned_lines)\n",
        "  text = re.sub(r'(\\w+)\\s*-\\s*\\n\\s*(\\w+)', r'\\1\\2', text )        # Removes Hyphen across lines\n",
        "  text = re.sub(r'(?<!\\n)\\n(?!\\n|\\s*.|\\s*\\d+\\.\\s)', ' ', text)    # Merge broken lines into paragraph, it will join lines unless they look like a list item, new para., or headings\n",
        "\n",
        "  text = re.sub(r'\\s+', ' ', text).strip()                        # Normalize whitespace\n",
        "\n",
        "  return text\n",
        "\n",
        "\n",
        "def format_tables_as_json(table_data):\n",
        "# Converts extracted table data into a JSON\n",
        "  if not table_data or len(table_data) < 1:\n",
        "    return None\n",
        "\n",
        "  headers = table_data[0]\n",
        "  cleaned_headers = [\n",
        "      re.sub(r'[\\n\\r]+', ' ', h).strip() if h else f\"column-{i}\"\n",
        "      for i, h in enumerate(headers)\n",
        "  ]\n",
        "\n",
        "  data = []\n",
        "  for row in table_data[1:]:\n",
        "    row_data = {}\n",
        "    for i, header in enumerate(cleaned_headers):\n",
        "      if i < len(row):\n",
        "        cell = row[i]\n",
        "        clean_cell = re.sub(r'[n\\r]+', ' ', cell).strip() if cell else\"\"\n",
        "        row_data[header] = clean_cell\n",
        "      else:\n",
        "        row_data[header] = \"\"\n",
        "\n",
        "    if any(row_data.values()):\n",
        "      data.append(row_data)\n",
        "\n",
        "  return data if data else None\n",
        "\n",
        "\n",
        "def main():\n",
        "  pdf_path = doc_path\n",
        "  output_json_path = path + \"cleaned.json\"\n",
        "  monograph_data = []\n",
        "\n",
        "  with fitz.open(pdf_path) as doc:\n",
        "    chapters = detect_chapters(doc)\n",
        "    common_headers, common_footers = detect_common_headers_footers(doc)\n",
        "\n",
        "    print(\"detected common headers:\", common_headers)\n",
        "    print(\"detected common footers:\", common_footers)\n",
        "    print(f\"detected {len(chapters)} chapters\")\n",
        "\n",
        "    for chapter_info in chapters:\n",
        "      print(f\"Processing chapter {chapter_info['chapter']}: {chapter_info['title']}...\")\n",
        "\n",
        "      chapter_text = \"\"\n",
        "      chapter_tables = []\n",
        "\n",
        "      start_page_index = chapter_info['start_page'] - 1\n",
        "      end_page_index = chapter_info['end_page'] - 1\n",
        "\n",
        "      for page_num in range(start_page_index, min(end_page_index + 1, len(doc))):\n",
        "        page = doc[page_num]\n",
        "\n",
        "        # Clean the main text\n",
        "        raw_text = page.get_text()\n",
        "        if raw_text:\n",
        "          cleaned_text = clean_page_text(raw_text, common_headers, common_footers)\n",
        "          chapter_text += cleaned_text + \" \"\n",
        "\n",
        "        # Extract tables\n",
        "        found_tables = page.find_tables()\n",
        "        if found_tables:\n",
        "          for i, table_obj in enumerate(found_tables):\n",
        "            table_data = table_obj.extract()\n",
        "            formatted_table = format_tables_as_json(table_data)\n",
        "            if formatted_table:\n",
        "              chapter_tables.append({\n",
        "                  \"table_name\": f\"Table on Page { page.number + 1}, Index {i}\",\n",
        "                  \"data\": formatted_table\n",
        "              })\n",
        "\n",
        "\n",
        "      monograph_data.append({\n",
        "          \"chapter\": chapter_info[\"chapter\"],\n",
        "          'title': chapter_info[\"title\"],\n",
        "          \"content\": chapter_text.strip(),\n",
        "          \"tables\": chapter_tables\n",
        "      })\n",
        "\n",
        "  # final output object with metadata\n",
        "  output = {\n",
        "      \"source_file\": pdf_path,\n",
        "    # \"extracted_on\": datetime.now().strftime(\"%y-%m-%d\"),\n",
        "      \"chapters\": monograph_data\n",
        "  }\n",
        "\n",
        "  # Save to JSON\n",
        "  with open(output_json_path, \"w\", encoding=\"utf-8\") as f:\n",
        "    json.dump(output, f, indent=2, ensure_ascii = False)\n",
        "\n",
        "\n",
        "  print(f\"\\n extraction done\")\n",
        "\n",
        "\n",
        "if __name__ == \"__main__\":\n",
        "  main()\n",
        "\n",
        "\n",
        "\n",
        "\n"
      ],
      "metadata": {
        "id": "XnlPPHZZXr3C",
        "colab": {
          "base_uri": "https://localhost:8080/"
        },
        "outputId": "ca1df0a7-21f7-43d9-eb43-813b63ee0c42"
      },
      "execution_count": 85,
      "outputs": [
        {
          "output_type": "stream",
          "name": "stdout",
          "text": [
            "detected common headers: {'Cancer Monograph'}\n",
            "detected common footers: {'Cancer Monograph\\n20', 'Cancer Monograph\\n120', 'Cancer Monograph\\n9', 'Cancer Monograph\\n208', 'Cancer Monograph\\n76', 'Cancer Monograph\\n111', 'Cancer Monograph\\n30', 'Cancer Monograph\\n185', 'Cancer Monograph\\n123', 'Cancer Monograph\\n152', 'Cancer Monograph\\n184', 'Cancer Monograph\\n164', 'Cancer Monograph\\n200', 'Cancer Monograph\\n90', 'Cancer Monograph\\n201', 'Cancer Monograph\\n144', 'Cancer Monograph\\n169', 'Cancer Monograph\\n13', 'Cancer Monograph\\n127', 'Cancer Monograph\\n35', 'Cancer Monograph\\n189', 'Cancer Monograph\\n66', 'Cancer Monograph\\n105', 'Cancer Monograph\\n186', 'Cancer Monograph\\n114', 'Cancer Monograph\\n191', 'Cancer Monograph\\n22', 'Cancer Monograph\\n53', 'Cancer Monograph\\n174', 'Cancer Monograph\\n75', 'Cancer Monograph\\n27', 'Cancer Monograph\\n86', 'Cancer Monograph\\n11', 'Cancer Monograph\\n103', 'Cancer Monograph\\n121', 'Cancer Monograph\\n180', 'Cancer Monograph\\n44', 'Cancer Monograph\\n157', 'Cancer Monograph\\n93', 'Cancer Monograph\\n195', 'Cancer Monograph\\n118', 'Cancer Monograph\\n140', 'Cancer Monograph\\n128', 'Cancer Monograph\\n46', 'Cancer Monograph\\n203', 'Cancer Monograph\\n122', 'Cancer Monograph\\n171', 'Cancer Monograph\\n160', 'Cancer Monograph\\n209', 'Cancer Monograph\\n65', 'Cancer Monograph\\n94', 'Cancer Monograph\\n170', 'Cancer Monograph\\n48', 'Cancer Monograph\\n212', 'Cancer Monograph\\n84', 'Cancer Monograph\\n139', 'Cancer Monograph\\n137', 'Cancer Monograph\\n155', 'Cancer Monograph\\n55', 'Cancer Monograph\\n74', 'Cancer Monograph\\n107', 'Cancer Monograph\\n92', 'Cancer Monograph\\n73', 'Cancer Monograph\\n142', 'Cancer Monograph\\n143', 'Cancer Monograph\\n89', 'Cancer Monograph\\n159', 'Cancer Monograph\\n96', 'Cancer Monograph\\n192', 'Cancer Monograph\\n154', 'Cancer Monograph\\n25', 'Cancer Monograph\\n34', 'Cancer Monograph\\n88', 'Cancer Monograph\\n112', 'Cancer Monograph\\n148', 'Cancer Monograph\\n199', 'Cancer Monograph\\n43', 'Cancer Monograph\\n197', 'Cancer Monograph\\n131', 'Cancer Monograph\\n126', 'Cancer Monograph\\n207', 'Cancer Monograph\\n42', 'Cancer Monograph\\n78', 'Cancer Monograph\\n63', 'Cancer Monograph\\n54', 'Cancer Monograph\\n149', 'Cancer Monograph\\n72', 'Cancer Monograph\\n28', 'Cancer Monograph\\n133', 'Cancer Monograph\\n145', 'Cancer Monograph\\n32', 'Cancer Monograph\\n71', 'Cancer Monograph\\n150', 'Cancer Monograph\\n190', 'Cancer Monograph\\n23', 'Cancer Monograph\\n83', 'Cancer Monograph\\n67', 'Cancer Monograph\\n165', 'Cancer Monograph\\n193', 'Cancer Monograph\\n205', 'Cancer Monograph\\n214', 'Cancer Monograph\\n156', 'Cancer Monograph\\n168', 'Cancer Monograph\\n206', 'Cancer Monograph\\n213', 'Cancer Monograph\\n26', 'Cancer Monograph\\n10', 'Cancer Monograph\\n62', 'Cancer Monograph\\n69', 'Cancer Monograph\\n70', 'Cancer Monograph\\n178', 'Cancer Monograph\\n58', 'Cancer Monograph\\n81', 'Cancer Monograph\\n14', 'Cancer Monograph\\n47', 'Cancer Monograph\\n87', 'Cancer Monograph\\n19', 'Cancer Monograph\\n59', 'Cancer Monograph\\n31', 'Cancer Monograph\\n136', 'Cancer Monograph\\n95', 'Cancer Monograph\\n61', 'Cancer Monograph\\n79', 'Cancer Monograph\\n109', 'Cancer Monograph\\n187', 'Cancer Monograph\\n39', 'Cancer Monograph\\n102', 'Cancer Monograph\\n21', 'Cancer Monograph\\n36', 'Cancer Monograph\\n17', 'Cancer Monograph\\n115', 'Cancer Monograph\\n179', 'Cancer Monograph\\n182', 'Cancer Monograph\\n38', 'Cancer Monograph\\n188', 'Cancer Monograph\\n161', 'Cancer Monograph\\n172', 'Cancer Monograph\\n85', 'Cancer Monograph\\n210', 'Cancer Monograph\\n50', 'Cancer Monograph\\n18', 'Cancer Monograph\\n141', 'Cancer Monograph\\n16', 'Cancer Monograph\\n29', 'Cancer Monograph\\n162', 'Cancer Monograph\\n80', 'Cancer Monograph\\n100', 'Cancer Monograph\\n106', 'Cancer Monograph\\n167', 'Cancer Monograph\\n146', 'Cancer Monograph\\n198', 'Cancer Monograph\\n12', 'Cancer Monograph\\n98', 'Cancer Monograph\\n173', 'Cancer Monograph\\n45', 'Cancer Monograph\\n183', 'Cancer Monograph\\n56', 'Cancer Monograph\\n129', 'Cancer Monograph\\n52', 'Cancer Monograph\\n163', 'Cancer Monograph\\n204', 'Cancer Monograph\\n57', 'Cancer Monograph\\n130', 'Cancer Monograph\\n40', 'Cancer Monograph\\n37', 'Cancer Monograph\\n82', 'Cancer Monograph\\n60', 'Cancer Monograph\\n181', 'Cancer Monograph\\n77', 'Cancer Monograph\\n15', 'Cancer Monograph\\n99', 'Cancer Monograph\\n104', 'Cancer Monograph\\n166', 'Cancer Monograph\\n49', 'Cancer Monograph\\n113', 'Cancer Monograph\\n41', 'Cancer Monograph\\n132', 'Cancer Monograph\\n147', 'Cancer Monograph\\n68', 'Cancer Monograph\\n33', 'Cancer Monograph\\n116', 'Cancer Monograph\\n108', 'Cancer Monograph\\n135', 'Cancer Monograph\\n194', 'Cancer Monograph\\n64', 'Cancer Monograph\\n119', 'Cancer Monograph\\n101', 'Cancer Monograph\\n158', 'Cancer Monograph\\n175', 'Cancer Monograph\\n110', 'Cancer Monograph\\n196', 'Cancer Monograph\\n124', 'Cancer Monograph\\n211', 'Cancer Monograph\\n125', 'Cancer Monograph\\n202', 'Cancer Monograph\\n51', 'Cancer Monograph\\n138', 'Cancer Monograph\\n151', 'Cancer Monograph\\n153', 'Cancer Monograph\\n176', 'Cancer Monograph\\n91', 'Cancer Monograph\\n24', 'Cancer Monograph\\n97', 'Cancer Monograph\\n117', 'icma', 'Cancer Monograph\\n177', 'Cancer Monograph\\n134'}\n",
            "detected 9 chapters\n",
            "Processing chapter 1: Population and Cancer Incidence...\n",
            "Processing chapter 2: Leading sites of Cancer...\n",
            "Processing chapter 3: Breast Cancer...\n",
            "Processing chapter 4: Cervical Cancer Research...\n",
            "Processing chapter 5: Cancer Research in North-East...\n",
            "Processing chapter 6: Tobacco Related Cancers...\n",
            "Processing chapter 7: Prostrate Cancer...\n",
            "Processing chapter 8: Diet and Cancer...\n",
            "Processing chapter 9: Extramural Research Activities...\n",
            "\n",
            " extraction done\n"
          ]
        }
      ]
    },
    {
      "cell_type": "code",
      "source": [
        "t1 = \"my name is -\\n boy \\n aditya \"\n",
        "t3 = re.sub(r'(\\w+)\\s*-\\s*\\n\\s*(\\w+)', r'\\1\\2', t1)\n",
        "t3\n"
      ],
      "metadata": {
        "colab": {
          "base_uri": "https://localhost:8080/",
          "height": 35
        },
        "id": "A2uw7WCXUPu9",
        "outputId": "952b30a2-3dc3-4c1a-9fd6-d77018f8371c"
      },
      "execution_count": 76,
      "outputs": [
        {
          "output_type": "execute_result",
          "data": {
            "text/plain": [
              "'my name isboy \\n aditya '"
            ],
            "application/vnd.google.colaboratory.intrinsic+json": {
              "type": "string"
            }
          },
          "metadata": {},
          "execution_count": 76
        }
      ]
    },
    {
      "cell_type": "code",
      "source": [
        "t4 = re.sub(r'(?<!\\n)\\n(?!\\n|\\s*.|\\s*\\d+\\.\\s)', ' ', t1)\n",
        "t4"
      ],
      "metadata": {
        "colab": {
          "base_uri": "https://localhost:8080/",
          "height": 35
        },
        "id": "3EDWgD9cXp9F",
        "outputId": "379c950d-143e-4480-aaea-d69ce7c9eec2"
      },
      "execution_count": 75,
      "outputs": [
        {
          "output_type": "execute_result",
          "data": {
            "text/plain": [
              "'my name is -\\n boy \\n aditya '"
            ],
            "application/vnd.google.colaboratory.intrinsic+json": {
              "type": "string"
            }
          },
          "metadata": {},
          "execution_count": 75
        }
      ]
    },
    {
      "cell_type": "markdown",
      "source": [],
      "metadata": {
        "id": "9sp3y4-xYjXY"
      }
    },
    {
      "cell_type": "code",
      "source": [
        "doc[50].get_text().split('\\n')"
      ],
      "metadata": {
        "colab": {
          "base_uri": "https://localhost:8080/"
        },
        "collapsed": true,
        "id": "za2CKlUQNzqy",
        "outputId": "79021207-1001-4585-e2d7-3757e7f1e796"
      },
      "execution_count": 60,
      "outputs": [
        {
          "output_type": "execute_result",
          "data": {
            "text/plain": [
              "['Cancer Monograph',\n",
              " '51',\n",
              " 'A. Nandakumar and M. Chaturvedi',\n",
              " '\\u2003 \\u2003 \\u2002 \\u2003',\n",
              " 'Males\\t \\t',\n",
              " '\\t',\n",
              " '\\t',\n",
              " '\\t',\n",
              " '\\t',\n",
              " 'Females',\n",
              " 'Fig. 2.25(a): Ten Leading Sites of Cancer (2012-2014). (AARs given in parentheses).',\n",
              " 'PAPUMPARE District',\n",
              " 'Males: The leading sites of cancer were: stomach (20.7%), liver (14.4%), oesophagus (10.7%), lung (9.7%) ',\n",
              " 'and other skin (5.0%). The respective CR and AAR per 100,000 population for the sites were: stomach ',\n",
              " '(21.5 and 50.2), liver (14.9 and 38.0), oesophagus (11.1 and 26.5), lung (10.0 and 27.8) and other skin ',\n",
              " '(5.2 and 11.0).',\n",
              " 'Females: The leading cancer sites among females were: breast (15.0%) followed by cervix uteri (13.5%), ',\n",
              " 'thyroid (11.1%), stomach (9.9%) and ovary (6.3%). The respective CR and AAR per 100,000 population ',\n",
              " 'for the sites were: breast (17.3 and 29.2), cervix uteri (15.6 and 30.2), thyroid (12.8 and 20.7), stomach ',\n",
              " '(11.4 and 29.2) and ovary (7.3 and 15.2).',\n",
              " '\\u2003 \\u2003 \\u2002 \\u2003',\n",
              " 'Males\\t \\t',\n",
              " '\\t',\n",
              " '\\t',\n",
              " '\\t',\n",
              " '\\t',\n",
              " 'Females',\n",
              " 'Fig. 2.25(b): Ten Leading Sites of Cancer (2012-2014). (AARs given in parentheses).',\n",
              " 'NAHARLAGUN EXCLUDING PAPUMPARE DISTRICT',\n",
              " 'Males: The leading sites of cancer were: stomach (27.1%), liver (23.6%), oesophagus (5.7%), lung (4.8%) ',\n",
              " 'and nasopharynx (4.4%). The respective CR and AAR per 100,000 population for the sites were: stomach ',\n",
              " '(12.2 and 21.7), liver (10.7 and 18.4), oesophagus (2.6 and 4.8), lung (2.2 and 3.4) and nasopharynx ',\n",
              " '(2.0 and 3.6).',\n",
              " 'Females: The leading cancer sites among females were: stomach (17.3%) followed by cervix uteri (12.4%), ',\n",
              " 'liver (8.6%), thyroid (7.6%) and ovary (7.3%). The respective CR and AAR per 100,000 population for ',\n",
              " 'the sites were: stomach (7.0 and 13.5), cervix uteri (5.0 and 6.9), liver (3.5 and 5.4), thyroid (3.1 and ',\n",
              " '4.1) and ovary (3.0 and 4.7).',\n",
              " '']"
            ]
          },
          "metadata": {},
          "execution_count": 60
        }
      ]
    },
    {
      "cell_type": "code",
      "source": [
        "chapter_map = detect_chapters(doc)\n",
        "chapter_map"
      ],
      "metadata": {
        "colab": {
          "base_uri": "https://localhost:8080/"
        },
        "collapsed": true,
        "id": "b3j7Ka6_ZyJJ",
        "outputId": "b99a8026-b7e7-46fa-82b4-a817ca89a696"
      },
      "execution_count": 27,
      "outputs": [
        {
          "output_type": "execute_result",
          "data": {
            "text/plain": [
              "[{'chapter': 1,\n",
              "  'title': 'Population and Cancer Incidence',\n",
              "  'start_page': 28,\n",
              "  'endpage': 35},\n",
              " {'chapter': 2,\n",
              "  'title': 'Leading sites of Cancer',\n",
              "  'start_page': 36,\n",
              "  'endpage': 53},\n",
              " {'chapter': 3, 'title': 'Breast Cancer', 'start_page': 54, 'endpage': 78},\n",
              " {'chapter': 4,\n",
              "  'title': 'Cervical Cancer Research',\n",
              "  'start_page': 79,\n",
              "  'endpage': 111},\n",
              " {'chapter': 5,\n",
              "  'title': 'Cancer Research in North-East',\n",
              "  'start_page': 112,\n",
              "  'endpage': 136},\n",
              " {'chapter': 6,\n",
              "  'title': 'Tobacco Related Cancers',\n",
              "  'start_page': 137,\n",
              "  'endpage': 185},\n",
              " {'chapter': 7,\n",
              "  'title': 'Prostrate Cancer',\n",
              "  'start_page': 186,\n",
              "  'endpage': 194},\n",
              " {'chapter': 8, 'title': 'Diet and Cancer', 'start_page': 195, 'endpage': 200},\n",
              " {'chapter': 9,\n",
              "  'title': 'Extramural Research Activities',\n",
              "  'start_page': 201,\n",
              "  'end_page': 216}]"
            ]
          },
          "metadata": {},
          "execution_count": 27
        }
      ]
    },
    {
      "cell_type": "code",
      "source": [
        "len(doc)"
      ],
      "metadata": {
        "colab": {
          "base_uri": "https://localhost:8080/"
        },
        "id": "tuQRZVVYZzqQ",
        "outputId": "907afc27-431b-4562-f5a7-c164e697b25f"
      },
      "execution_count": 26,
      "outputs": [
        {
          "output_type": "execute_result",
          "data": {
            "text/plain": [
              "216"
            ]
          },
          "metadata": {},
          "execution_count": 26
        }
      ]
    },
    {
      "cell_type": "code",
      "source": [],
      "metadata": {
        "id": "Et2D8FRCbiWA"
      },
      "execution_count": null,
      "outputs": []
    }
  ]
}