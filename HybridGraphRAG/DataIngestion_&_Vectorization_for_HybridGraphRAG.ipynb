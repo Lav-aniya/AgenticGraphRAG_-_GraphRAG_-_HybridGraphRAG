{
 "cells": [
  {
   "cell_type": "code",
   "execution_count": 1,
   "id": "b8b8ec30",
   "metadata": {},
   "outputs": [],
   "source": [
    "import json\n",
    "from langchain_community.vectorstores import Neo4jVector\n",
    "from langchain_text_splitters import RecursiveCharacterTextSplitter\n",
    "from dotenv import load_dotenv\n",
    "import os"
   ]
  },
  {
   "cell_type": "code",
   "execution_count": 2,
   "id": "7c631812",
   "metadata": {},
   "outputs": [],
   "source": [
    "load_dotenv()\n",
    "NEO4J_PASSWORD = os.environ.get(\"NEO4J_PASSWORD\")\n",
    "NEO4J_URI = os.environ.get(\"NEO4J_URI\")\n",
    "NEO4J_USERNAME = os.environ.get(\"NEO4J_USERNAME\")\n",
    "NEO4J_DATABASE = os.environ.get(\"NEO4J_DATABASE\")"
   ]
  },
  {
   "cell_type": "code",
   "execution_count": 4,
   "id": "2e6adde2",
   "metadata": {},
   "outputs": [
    {
     "name": "stderr",
     "output_type": "stream",
     "text": [
      "d:\\Projects\\Graph_RAG_without_Vector_Search\\env\\Lib\\site-packages\\tqdm\\auto.py:21: TqdmWarning: IProgress not found. Please update jupyter and ipywidgets. See https://ipywidgets.readthedocs.io/en/stable/user_install.html\n",
      "  from .autonotebook import tqdm as notebook_tqdm\n",
      "d:\\Projects\\Graph_RAG_without_Vector_Search\\env\\Lib\\site-packages\\huggingface_hub\\file_download.py:143: UserWarning: `huggingface_hub` cache-system uses symlinks by default to efficiently store duplicated files but your machine does not support them in C:\\Users\\adity\\.cache\\huggingface\\hub\\models--BAAI--bge-small-en. Caching files will still work but in a degraded version that might require more space on your disk. This warning can be disabled by setting the `HF_HUB_DISABLE_SYMLINKS_WARNING` environment variable. For more details, see https://huggingface.co/docs/huggingface_hub/how-to-cache#limitations.\n",
      "To support symlinks on Windows, you either need to activate Developer Mode or to run Python as an administrator. In order to activate developer mode, see this article: https://docs.microsoft.com/en-us/windows/apps/get-started/enable-your-device-for-development\n",
      "  warnings.warn(message)\n",
      "Xet Storage is enabled for this repo, but the 'hf_xet' package is not installed. Falling back to regular HTTP download. For better performance, install the package with: `pip install huggingface_hub[hf_xet]` or `pip install hf_xet`\n"
     ]
    }
   ],
   "source": [
    "from langchain_community.embeddings import HuggingFaceBgeEmbeddings\n",
    "\n",
    "model_name = \"BAAI/bge-small-en\"\n",
    "model_kwargs = {\"device\": \"cpu\"}\n",
    "encode_kwargs = {\"normalize_embeddings\": True}\n",
    "hf_embeddings = HuggingFaceBgeEmbeddings(\n",
    "    model_name=model_name, model_kwargs=model_kwargs, encode_kwargs=encode_kwargs\n",
    ")"
   ]
  },
  {
   "cell_type": "code",
   "execution_count": 6,
   "id": "78dac8bb",
   "metadata": {},
   "outputs": [
    {
     "name": "stdout",
     "output_type": "stream",
     "text": [
      "Prepared 682 text chunks for vectorization\n",
      "Ingesting data and creating vector embeddings\n"
     ]
    },
    {
     "name": "stderr",
     "output_type": "stream",
     "text": [
      "d:\\Projects\\Graph_RAG_without_Vector_Search\\env\\Lib\\site-packages\\torch\\nn\\modules\\module.py:1762: FutureWarning: `encoder_attention_mask` is deprecated and will be removed in version 4.55.0 for `BertSdpaSelfAttention.forward`.\n",
      "  return forward_call(*args, **kwargs)\n"
     ]
    },
    {
     "name": "stdout",
     "output_type": "stream",
     "text": [
      "data ingestion and vectorization done\n",
      "a vector index named 'monograph_chunks has been created\n"
     ]
    }
   ],
   "source": [
    "def main():\n",
    "    if not NEO4J_PASSWORD:\n",
    "        print(\"API key or password not found\")\n",
    "        return\n",
    "    \n",
    "    embeddings = hf_embeddings\n",
    "\n",
    "    try:\n",
    "        with open(\"cleaned.json\", \"r\", encoding = \"utf-8\") as f:\n",
    "            monograph = json.load(f)\n",
    "    except FileNotFoundError:\n",
    "        print(\"'Cleaned.json' no found\")\n",
    "        return\n",
    "    \n",
    "    text_splitter = RecursiveCharacterTextSplitter(chunk_size=1000, chunk_overlap=150)\n",
    "    docs_with_metadata = []\n",
    "    for chapter in monograph.get(\"chapters\", []):\n",
    "        content = chapter.get(\"content\", \"\")\n",
    "        if content:\n",
    "            chunks = text_splitter.split_text(content)\n",
    "            for i, chunk in enumerate(chunks):\n",
    "                doc = {\n",
    "                    \"text\": chunk,\n",
    "                    \"metadata\": {\n",
    "                        \"chapter\": chapter.get(\"chapter\"),\n",
    "                        \"title\": chapter.get(\"title\"),\n",
    "                        \"chunk_seq_id\": i\n",
    "                    }\n",
    "                }\n",
    "                docs_with_metadata.append(doc)\n",
    "\n",
    "    texts = [doc[\"text\"] for doc in docs_with_metadata]\n",
    "    metadatas = [doc[\"metadata\"] for doc in docs_with_metadata]\n",
    "\n",
    "    print(f\"Prepared {len(texts)} text chunks for vectorization\")\n",
    "\n",
    "    print(\"Ingesting data and creating vector embeddings\")\n",
    "    try:\n",
    "        neo4j_vector = Neo4jVector.from_texts(\n",
    "            texts=texts,\n",
    "            embedding=embeddings,\n",
    "            metadatas=metadatas,\n",
    "            url=NEO4J_URI,\n",
    "            username=NEO4J_USERNAME,\n",
    "            password=NEO4J_PASSWORD,\n",
    "            database=NEO4J_DATABASE,\n",
    "            index_name=\"monograph_chunks\",              # name for the vector index\n",
    "            node_label=\"Chunk\",                         # label for the nodes that will store the text and embeddinsg\n",
    "            text_node_property=\"text\",                  # property name for the text\n",
    "            embedding_node_property=\"embeddings\",       # property name for the vecor embedding\n",
    "            create_id_index=True\n",
    "        )\n",
    "        print(\"data ingestion and vectorization done\")\n",
    "        print(\"a vector index named 'monograph_chunks has been created\" )\n",
    "\n",
    "    except Exception as e:\n",
    "        print(f\"an error occured: {e}\")\n",
    "\n",
    "if __name__ == \"__main__\":\n",
    "    main()"
   ]
  },
  {
   "cell_type": "code",
   "execution_count": null,
   "id": "b87f9416",
   "metadata": {},
   "outputs": [],
   "source": []
  }
 ],
 "metadata": {
  "kernelspec": {
   "display_name": "env (3.12.4)",
   "language": "python",
   "name": "python3"
  },
  "language_info": {
   "codemirror_mode": {
    "name": "ipython",
    "version": 3
   },
   "file_extension": ".py",
   "mimetype": "text/x-python",
   "name": "python",
   "nbconvert_exporter": "python",
   "pygments_lexer": "ipython3",
   "version": "3.12.4"
  }
 },
 "nbformat": 4,
 "nbformat_minor": 5
}
